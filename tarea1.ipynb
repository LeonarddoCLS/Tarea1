{
  "cells": [
    {
      "cell_type": "markdown",
      "metadata": {
        "id": "Rq_-jS9HtUU-"
      },
      "source": [
        "<center><img src=\"https://i.imgur.com/zRrFdsf.png\" width=\"700\"></center>"
      ]
    },
    {
      "cell_type": "markdown",
      "metadata": {
        "id": "-cCaZ1r2tUVA"
      },
      "source": [
        "LEONARDDO LÓPEZ"
      ]
    },
    {
      "cell_type": "markdown",
      "metadata": {
        "id": "67c0b63b-c198-4b76-8f24-68f2f4e24ccf"
      },
      "source": [
        "### Exercise 1\n",
        "<div class=\"alert-success\">\n",
        "\n",
        "1. Reproject your country's map layers.\n",
        "2. Plot the reprojected layers\n",
        "3. Save the reprojected layers as **gpkg**.\n",
        "    \n",
        "</div>"
      ]
    },
    {
      "cell_type": "markdown",
      "metadata": {
        "id": "a182ba5b-fb0a-4c43-beeb-0a6c2a4fcfc8"
      },
      "source": [
        "## Reprojecting\n",
        "\n",
        "A projected CRS will have units in meters or feet (or similar). You can request a crs per country [here](https://epsg.io/?q=brazil+kind%3APROJCRS):"
      ]
    },
    {
      "cell_type": "code",
      "source": [
        "import os, geopandas as gpd\n",
        "countries=gpd.read_file(os.path.join(\"maps\",\"World_country\",\"World_Countries.shp\"))\n"
      ],
      "metadata": {
        "id": "MInA5N3QzOBV"
      },
      "execution_count": 4,
      "outputs": []
    },
    {
      "cell_type": "code",
      "source": [
        "argentina=countries[countries.COUNTRY=='Argentina']"
      ],
      "metadata": {
        "id": "CTcJ7f0O0hHE"
      },
      "execution_count": 5,
      "outputs": []
    },
    {
      "cell_type": "code",
      "execution_count": 6,
      "metadata": {
        "id": "032135e2-edb7-42fd-908e-8873d3e6683e",
        "colab": {
          "base_uri": "https://localhost:8080/"
        },
        "outputId": "cd17e365-7235-45ee-f2fc-c18f6261eef4"
      },
      "outputs": [
        {
          "output_type": "execute_result",
          "data": {
            "text/plain": [
              "<Geographic 2D CRS: EPSG:4326>\n",
              "Name: WGS 84\n",
              "Axis Info [ellipsoidal]:\n",
              "- Lat[north]: Geodetic latitude (degree)\n",
              "- Lon[east]: Geodetic longitude (degree)\n",
              "Area of Use:\n",
              "- name: World.\n",
              "- bounds: (-180.0, -90.0, 180.0, 90.0)\n",
              "Datum: World Geodetic System 1984 ensemble\n",
              "- Ellipsoid: WGS 84\n",
              "- Prime Meridian: Greenwich"
            ]
          },
          "metadata": {},
          "execution_count": 6
        }
      ],
      "source": [
        "argentina.crs"
      ]
    },
    {
      "cell_type": "code",
      "execution_count": 7,
      "metadata": {
        "id": "d6125ed3-d5da-46ed-b530-532a30ec35f8",
        "colab": {
          "base_uri": "https://localhost:8080/"
        },
        "outputId": "a56751d0-9771-491b-8958-5ba5a91d19fe"
      },
      "outputs": [
        {
          "output_type": "execute_result",
          "data": {
            "text/plain": [
              "[Axis(name=Geodetic latitude, abbrev=Lat, direction=north, unit_auth_code=EPSG, unit_code=9122, unit_name=degree),\n",
              " Axis(name=Geodetic longitude, abbrev=Lon, direction=east, unit_auth_code=EPSG, unit_code=9122, unit_name=degree)]"
            ]
          },
          "metadata": {},
          "execution_count": 7
        }
      ],
      "source": [
        "# check units of measurement\n",
        "argentina.crs.axis_info"
      ]
    },
    {
      "cell_type": "code",
      "execution_count": 8,
      "metadata": {
        "id": "7b4fa59a-25e3-4ef2-8b2e-9e868d92c5a1",
        "colab": {
          "base_uri": "https://localhost:8080/"
        },
        "outputId": "513d45a3-d725-4807-9840-5530caf4e7b9"
      },
      "outputs": [
        {
          "output_type": "execute_result",
          "data": {
            "text/plain": [
              "False"
            ]
          },
          "metadata": {},
          "execution_count": 8
        }
      ],
      "source": [
        "# is this CRS projected?\n",
        "argentina.crs.is_projected"
      ]
    },
    {
      "cell_type": "code",
      "execution_count": 11,
      "metadata": {
        "id": "8c63293a-d9a0-4869-a7e8-7fbe2f4bbb59",
        "colab": {
          "base_uri": "https://localhost:8080/"
        },
        "outputId": "11286dec-a1ad-4e3b-8b75-1de1de646a40"
      },
      "outputs": [
        {
          "output_type": "execute_result",
          "data": {
            "text/plain": [
              "[Axis(name=Northing, abbrev=X, direction=north, unit_auth_code=EPSG, unit_code=9001, unit_name=metre),\n",
              " Axis(name=Easting, abbrev=Y, direction=east, unit_auth_code=EPSG, unit_code=9001, unit_name=metre)]"
            ]
          },
          "metadata": {},
          "execution_count": 11
        }
      ],
      "source": [
        "# recommended for Argentina in general (meters)\n",
        "argentina.to_crs(5343).crs.axis_info"
      ]
    },
    {
      "cell_type": "code",
      "execution_count": 15,
      "metadata": {
        "id": "DjMj9myHtUVD",
        "colab": {
          "base_uri": "https://localhost:8080/",
          "height": 447
        },
        "outputId": "f50f6cf8-c7be-41a1-943a-43fd0682b1e0"
      },
      "outputs": [
        {
          "output_type": "execute_result",
          "data": {
            "text/plain": [
              "<Axes: >"
            ]
          },
          "metadata": {},
          "execution_count": 15
        },
        {
          "output_type": "display_data",
          "data": {
            "text/plain": [
              "<Figure size 640x480 with 1 Axes>"
            ],
            "image/png": "[encoded data removed]"
          },
          "metadata": {}
        }
      ],
      "source": [
        "argentina.plot(facecolor=\"azure\",#color of polygon fill\n",
        "               edgecolor='red', #color of lines\n",
        "               linewidth=0.1) #thickness of lines"
      ]
    },
    {
      "cell_type": "code",
      "execution_count": 17,
      "metadata": {
        "id": "lPbJ4wFHtUVD"
      },
      "outputs": [],
      "source": [
        "prov=gpd.read_file(os.path.join(\"maps\",\"Provincias\",\"provinciaPolygon.shp\"))\n",
        "ferrov=gpd.read_file(os.path.join(\"maps\",\"Ferroviarias\",\"lineas_de_transporte_ferroviario_AN010Line.shp\"))\n",
        "energy=gpd.read_file(os.path.join(\"maps\",\"Energia\",\"puntos_de_energia_AD010Point.shp\"))"
      ]
    },
    {
      "cell_type": "markdown",
      "source": [
        "Verifiquemos que todas las layers se encuentren proyectadas"
      ],
      "metadata": {
        "id": "wsgxOYsW6qrf"
      }
    },
    {
      "cell_type": "code",
      "source": [
        "prov.crs.is_projected"
      ],
      "metadata": {
        "colab": {
          "base_uri": "https://localhost:8080/"
        },
        "id": "HiDh16LV6MnW",
        "outputId": "bc9481c6-81ce-4c9f-cd2f-d4f60ff56e0d"
      },
      "execution_count": 21,
      "outputs": [
        {
          "output_type": "execute_result",
          "data": {
            "text/plain": [
              "False"
            ]
          },
          "metadata": {},
          "execution_count": 21
        }
      ]
    },
    {
      "cell_type": "code",
      "source": [
        "ferrov.crs.is_projected"
      ],
      "metadata": {
        "colab": {
          "base_uri": "https://localhost:8080/"
        },
        "id": "Cw7tAL4a6hTp",
        "outputId": "66ab71fa-c364-4aad-b909-2566e87c78f8"
      },
      "execution_count": 22,
      "outputs": [
        {
          "output_type": "execute_result",
          "data": {
            "text/plain": [
              "False"
            ]
          },
          "metadata": {},
          "execution_count": 22
        }
      ]
    },
    {
      "cell_type": "code",
      "source": [
        "energy.crs.is_projected"
      ],
      "metadata": {
        "colab": {
          "base_uri": "https://localhost:8080/"
        },
        "id": "lkShZM9B6l-O",
        "outputId": "2e8648a8-78b0-4062-e410-85d81c664951"
      },
      "execution_count": 23,
      "outputs": [
        {
          "output_type": "execute_result",
          "data": {
            "text/plain": [
              "False"
            ]
          },
          "metadata": {},
          "execution_count": 23
        }
      ]
    },
    {
      "cell_type": "markdown",
      "source": [
        "Dado que ninguna se encuentra poyectada, es necesario realizar el siguiente procedimiento"
      ],
      "metadata": {
        "id": "aRkEAC996utO"
      }
    },
    {
      "cell_type": "code",
      "source": [
        "prov.to_crs(5343).crs.axis_info"
      ],
      "metadata": {
        "colab": {
          "base_uri": "https://localhost:8080/"
        },
        "id": "IBehWCH36uL1",
        "outputId": "d45d43ae-3b32-420b-9442-c1b5e526e344"
      },
      "execution_count": 24,
      "outputs": [
        {
          "output_type": "execute_result",
          "data": {
            "text/plain": [
              "[Axis(name=Northing, abbrev=X, direction=north, unit_auth_code=EPSG, unit_code=9001, unit_name=metre),\n",
              " Axis(name=Easting, abbrev=Y, direction=east, unit_auth_code=EPSG, unit_code=9001, unit_name=metre)]"
            ]
          },
          "metadata": {},
          "execution_count": 24
        }
      ]
    },
    {
      "cell_type": "code",
      "source": [
        "ferrov.to_crs(5343).crs.axis_info"
      ],
      "metadata": {
        "colab": {
          "base_uri": "https://localhost:8080/"
        },
        "id": "1MH1jVVj7fLO",
        "outputId": "943d658b-1dbe-4386-a5ed-7a3255e8db09"
      },
      "execution_count": 25,
      "outputs": [
        {
          "output_type": "execute_result",
          "data": {
            "text/plain": [
              "[Axis(name=Northing, abbrev=X, direction=north, unit_auth_code=EPSG, unit_code=9001, unit_name=metre),\n",
              " Axis(name=Easting, abbrev=Y, direction=east, unit_auth_code=EPSG, unit_code=9001, unit_name=metre)]"
            ]
          },
          "metadata": {},
          "execution_count": 25
        }
      ]
    },
    {
      "cell_type": "code",
      "source": [
        "energy.to_crs(5343).crs.axis_info"
      ],
      "metadata": {
        "colab": {
          "base_uri": "https://localhost:8080/"
        },
        "id": "MO78UTXJ7iZ1",
        "outputId": "568e0a02-3015-4bae-b4cd-24631449ec80"
      },
      "execution_count": 26,
      "outputs": [
        {
          "output_type": "execute_result",
          "data": {
            "text/plain": [
              "[Axis(name=Northing, abbrev=X, direction=north, unit_auth_code=EPSG, unit_code=9001, unit_name=metre),\n",
              " Axis(name=Easting, abbrev=Y, direction=east, unit_auth_code=EPSG, unit_code=9001, unit_name=metre)]"
            ]
          },
          "metadata": {},
          "execution_count": 26
        }
      ]
    },
    {
      "cell_type": "code",
      "source": [
        "prov.plot(facecolor=\"azure\",#color of polygon fill\n",
        "               edgecolor='red', #color of lines\n",
        "               linewidth=0.1) #thickness of lines"
      ],
      "metadata": {
        "colab": {
          "base_uri": "https://localhost:8080/",
          "height": 447
        },
        "id": "w8HiRzLm7oWg",
        "outputId": "799ca723-87f7-4494-8d01-25344e97558f"
      },
      "execution_count": 27,
      "outputs": [
        {
          "output_type": "execute_result",
          "data": {
            "text/plain": [
              "<Axes: >"
            ]
          },
          "metadata": {},
          "execution_count": 27
        },
        {
          "output_type": "display_data",
          "data": {
            "text/plain": [
              "<Figure size 640x480 with 1 Axes>"
            ],
            "image/png": "[encoded data removed]"
          },
          "metadata": {}
        }
      ]
    },
    {
      "cell_type": "code",
      "source": [
        "ferrov.plot(edgecolor='blue',\n",
        "            linewidth=1,\n",
        "            linestyle='dotted')"
      ],
      "metadata": {
        "colab": {
          "base_uri": "https://localhost:8080/",
          "height": 447
        },
        "id": "deW3CKVD7u3X",
        "outputId": "89476569-b644-4167-8d70-d2eb01707345"
      },
      "execution_count": 28,
      "outputs": [
        {
          "output_type": "execute_result",
          "data": {
            "text/plain": [
              "<Axes: >"
            ]
          },
          "metadata": {},
          "execution_count": 28
        },
        {
          "output_type": "display_data",
          "data": {
            "text/plain": [
              "<Figure size 640x480 with 1 Axes>"
            ],
            "image/png": "[encoded data removed]"
          },
          "metadata": {}
        }
      ]
    },
    {
      "cell_type": "code",
      "source": [
        "energy.plot(marker='.', # marker type\n",
        "            color='red',\n",
        "            markersize=1,\n",
        "            alpha=0.3) # transparency"
      ],
      "metadata": {
        "colab": {
          "base_uri": "https://localhost:8080/",
          "height": 447
        },
        "id": "p7ck2Ky27xrX",
        "outputId": "d7df272b-69a4-4250-c6dc-9d0dfe3c3414"
      },
      "execution_count": 29,
      "outputs": [
        {
          "output_type": "execute_result",
          "data": {
            "text/plain": [
              "<Axes: >"
            ]
          },
          "metadata": {},
          "execution_count": 29
        },
        {
          "output_type": "display_data",
          "data": {
            "text/plain": [
              "<Figure size 640x480 with 1 Axes>"
            ],
            "image/png": "[encoded data removed]"
          },
          "metadata": {}
        }
      ]
    },
    {
      "cell_type": "markdown",
      "source": [
        "Adicionamos las tres capas anteriores a la primera capa que sacamos"
      ],
      "metadata": {
        "id": "LQnxbN8Y70Ze"
      }
    },
    {
      "cell_type": "code",
      "source": [
        "base = argentina.plot(facecolor=\"azure\",\n",
        "               edgecolor='red',\n",
        "               linewidth=0.15)\n",
        "prov.plot(facecolor=\"None\",\n",
        "                      edgecolor='black',\n",
        "                      linewidth=0.1,\n",
        "                      figsize=(12,12),ax=base)\n",
        "\n",
        "ferrov.plot(edgecolor='blue', linewidth=0.4,\n",
        "            ax=base)# on top of...\n",
        "energy.plot(marker='.', color='green', markersize=1,alpha=0.7,\n",
        "            ax=base) # on top of...\n"
      ],
      "metadata": {
        "colab": {
          "base_uri": "https://localhost:8080/",
          "height": 447
        },
        "id": "DFgxQdAV76rE",
        "outputId": "9fbae5c3-1aed-4f01-9421-b77f4fb1eb14"
      },
      "execution_count": 38,
      "outputs": [
        {
          "output_type": "execute_result",
          "data": {
            "text/plain": [
              "<Axes: >"
            ]
          },
          "metadata": {},
          "execution_count": 38
        },
        {
          "output_type": "display_data",
          "data": {
            "text/plain": [
              "<Figure size 640x480 with 1 Axes>"
            ],
            "image/png": "[encoded data removed]"
          },
          "metadata": {}
        }
      ]
    },
    {
      "cell_type": "markdown",
      "metadata": {
        "id": "7402b0e4-fda8-431b-ad8d-62e0c12278f6"
      },
      "source": [
        "Ahora salvamos el mapa en un archivo GPKG"
      ]
    },
    {
      "cell_type": "code",
      "execution_count": 39,
      "metadata": {
        "id": "2f54a006-ca29-43db-9942-fdfa5c38e075"
      },
      "outputs": [],
      "source": [
        "## saving\n",
        "\n",
        "import os\n",
        "\n",
        "argentina.to_file(os.path.join(\"maps\",\"argentinaMap_5343.gpkg\"), layer='World_country', driver=\"GPKG\")\n",
        "prov.to_file(os.path.join(\"maps\",\"provincia.gpkg\"), layer='Provincias', driver=\"GPKG\")\n",
        "ferrov.to_file(os.path.join(\"maps\",\"ferrovias.gpkg\"), layer='Ferroviarias', driver=\"GPKG\")\n",
        "energy.to_file(os.path.join(\"maps\",\"energia.gpkg\"), layer='Energia', driver=\"GPKG\")"
      ]
    },
    {
      "cell_type": "markdown",
      "metadata": {
        "id": "57780f1f-2c19-49b4-8fbe-b3cc954a83f2"
      },
      "source": [
        "## Creating Spatial data\n",
        "\n",
        "You have a \"data\"folder in **Paideia** with a CSV file with information on the airports in Brazil. Create a similar 'data' folder in your local computer, inside the current _repo_.\n",
        "\n",
        "Let's open the **CSV**:"
      ]
    },
    {
      "cell_type": "code",
      "execution_count": null,
      "metadata": {
        "id": "c95003f5-30f7-4941-85d1-fd2d87743c80"
      },
      "outputs": [],
      "source": [
        "import pandas as pd\n",
        "infoairports=pd.read_csv(os.path.join(\"data\",\"br-airports.csv\"))\n",
        "\n",
        "# some rows\n",
        "\n",
        "infoairports.iloc[[0,1,2,3,-4,-3,-2,-1],:] #head and tail\n"
      ]
    },
    {
      "cell_type": "markdown",
      "metadata": {
        "id": "186b6ca4-e5f0-4502-91b4-dea1021fcdd2"
      },
      "source": [
        "This needs some cleaning:"
      ]
    },
    {
      "cell_type": "code",
      "execution_count": null,
      "metadata": {
        "id": "faf009a8-7a75-461c-ba05-0e5760c971ff"
      },
      "outputs": [],
      "source": [
        "# bye first row\n",
        "infoairports.drop(index=0,inplace=True)\n",
        "infoairports.reset_index(drop=True, inplace=True)\n",
        "infoairports.head()"
      ]
    },
    {
      "cell_type": "code",
      "execution_count": null,
      "metadata": {
        "id": "5d857678-c28e-4988-86b4-2ee6b11efdba"
      },
      "outputs": [],
      "source": [
        "# keep the  columns needed\n",
        "\n",
        "infoairports.columns\n"
      ]
    },
    {
      "cell_type": "code",
      "execution_count": null,
      "metadata": {
        "id": "22dd51af-cad6-4aa3-843d-f2dbadefb990"
      },
      "outputs": [],
      "source": [
        "keep=['name','type','latitude_deg', 'longitude_deg','elevation_ft','region_name','municipality']\n",
        "infoairports=infoairports.loc[:,keep]\n",
        "\n",
        "infoairports.info()"
      ]
    },
    {
      "cell_type": "markdown",
      "metadata": {
        "id": "a9f96cbf-6d53-45d1-9c5d-e236d6e3e652"
      },
      "source": [
        "Some formatting:"
      ]
    },
    {
      "cell_type": "code",
      "execution_count": null,
      "metadata": {
        "id": "b4cb8ee0-18a7-40c1-864b-cbc8086861c8"
      },
      "outputs": [],
      "source": [
        "numericCols=['latitude_deg', 'longitude_deg','elevation_ft']\n",
        "infoairports[numericCols]=infoairports.loc[:,numericCols].apply(lambda x:pd.to_numeric(x))"
      ]
    },
    {
      "cell_type": "code",
      "execution_count": null,
      "metadata": {
        "id": "4e7f0d14-934f-4465-b42f-d0c60efb6d32"
      },
      "outputs": [],
      "source": [
        "# now\n",
        "infoairports.info()"
      ]
    },
    {
      "cell_type": "code",
      "execution_count": null,
      "metadata": {
        "id": "b340ab20-2258-41a2-bbd4-6b6c31d422a0"
      },
      "outputs": [],
      "source": [
        "# let's plot\n",
        "\n",
        "base = brazil_5641.plot(color='white', edgecolor='black') #unprojected\n",
        "\n",
        "infoairports.plot.scatter(x = 'longitude_deg', y = 'latitude_deg',ax=base)"
      ]
    },
    {
      "cell_type": "markdown",
      "metadata": {
        "id": "77acc474-bb83-4174-9579-a8a641ff6adc"
      },
      "source": [
        "Why is it wrong?"
      ]
    },
    {
      "cell_type": "code",
      "execution_count": null,
      "metadata": {
        "id": "7b04453e-c335-4857-8fff-6a26c2daf730"
      },
      "outputs": [],
      "source": [
        "airports=gpd.GeoDataFrame(data=infoairports.copy(),\n",
        "                 geometry=gpd.points_from_xy(infoairports.longitude_deg,\n",
        "                                             infoairports.latitude_deg),\n",
        "                 crs=brazil.crs.to_epsg())# the coordinates were in degrees - unprojected\n",
        "\n",
        "# let's plot\n",
        "\n",
        "base = brazil_5641.plot(color='white', edgecolor='black')\n",
        "airports.plot(ax=base)"
      ]
    },
    {
      "cell_type": "code",
      "execution_count": null,
      "metadata": {
        "id": "755fb348-f7a6-4383-bd1c-54195e23eea2"
      },
      "outputs": [],
      "source": [
        "#remember:\n",
        "type(airports), type(infoairports)"
      ]
    },
    {
      "cell_type": "markdown",
      "metadata": {
        "id": "1bfd9c61-b4cf-4de2-8d65-cfce0f82a8a2"
      },
      "source": [
        "Let's re project!"
      ]
    },
    {
      "cell_type": "code",
      "execution_count": null,
      "metadata": {
        "id": "a6791c26-5306-4cc3-86cb-8a42fba88276"
      },
      "outputs": [],
      "source": [
        "airports_5641=airports.to_crs(5641)\n",
        "\n",
        "## then\n",
        "\n",
        "base = brazil_5641.plot(color='white', edgecolor='black')\n",
        "airports_5641.plot(ax=base)"
      ]
    },
    {
      "cell_type": "markdown",
      "metadata": {
        "id": "980c890f-bcdb-4a11-b926-f587df9cace2"
      },
      "source": [
        "Remember you have type of airports:"
      ]
    },
    {
      "cell_type": "code",
      "execution_count": null,
      "metadata": {
        "id": "5d44ab9b-d949-4976-af37-5b80786459f3"
      },
      "outputs": [],
      "source": [
        "airports_5641['type'].value_counts() # this will not work: airports.type.value_counts()"
      ]
    },
    {
      "cell_type": "markdown",
      "metadata": {
        "id": "d6e6386d-2636-4194-a79b-594ece5958d0"
      },
      "source": [
        "We may use that in the future. For now, just rename the **type** column to a different one."
      ]
    },
    {
      "cell_type": "code",
      "execution_count": null,
      "metadata": {
        "id": "576e913d-62e9-45a0-ba8c-58ba2504a052"
      },
      "outputs": [],
      "source": [
        "airports_5641.rename(columns={'type':'kind'},inplace=True)\n",
        "\n",
        "## adding the airports to GPKG\n",
        "airports_5641.to_file(os.path.join(\"maps\",\"brazilMaps_5641.gpkg\"), layer='airports', driver=\"GPKG\")"
      ]
    },
    {
      "cell_type": "markdown",
      "metadata": {
        "id": "90565e2b-836a-4495-95da-2b722ae43b5d"
      },
      "source": [
        "### Exercise 2\n",
        "<div class=\"alert-success\">\n",
        "\n",
        "1. Find the airports for your country [here](https://ourairports.com/data/). The data is in a CSV file.\n",
        "2. Create projected layer of airports.\n",
        "3. Plot all the layers and airports on top.\n",
        "    \n",
        "</div>"
      ]
    },
    {
      "cell_type": "markdown",
      "metadata": {
        "id": "1a244be3"
      },
      "source": [
        "<a class=\"anchor\" id=\"11\"></a>\n",
        "\n",
        "## Formating Geoseries projections\n",
        "\n"
      ]
    },
    {
      "cell_type": "markdown",
      "metadata": {
        "id": "56f39f71"
      },
      "source": [
        "You know **brazil_5641** is a multipolygon:"
      ]
    },
    {
      "cell_type": "code",
      "execution_count": null,
      "metadata": {
        "id": "0c0f557c"
      },
      "outputs": [],
      "source": [
        "brazil_5641"
      ]
    },
    {
      "cell_type": "markdown",
      "metadata": {
        "id": "a1623e72"
      },
      "source": [
        "Sometime, you just need the border (lines):"
      ]
    },
    {
      "cell_type": "code",
      "execution_count": null,
      "metadata": {
        "id": "39db903a"
      },
      "outputs": [],
      "source": [
        "brazil_5641.boundary"
      ]
    },
    {
      "cell_type": "code",
      "execution_count": null,
      "metadata": {
        "id": "ef42fd87"
      },
      "outputs": [],
      "source": [
        "# This is just the borderline\n",
        "brazil_5641.boundary.plot()"
      ]
    },
    {
      "cell_type": "markdown",
      "metadata": {
        "id": "24f53d89"
      },
      "source": [
        "Always check the data type:"
      ]
    },
    {
      "cell_type": "code",
      "execution_count": null,
      "metadata": {
        "id": "a18b7ce2"
      },
      "outputs": [],
      "source": [
        "# does 'boundary' return a GDF?\n",
        "type(brazil_5641.boundary)"
      ]
    },
    {
      "cell_type": "markdown",
      "metadata": {
        "id": "5b3845aa"
      },
      "source": [
        "Some operations in geopandas require GDF or GS. If you need a GDF instead of a GS:"
      ]
    },
    {
      "cell_type": "code",
      "execution_count": null,
      "metadata": {
        "id": "c4899f6e"
      },
      "outputs": [],
      "source": [
        "# converting into GDF\n",
        "brazil_5641.boundary.to_frame()"
      ]
    },
    {
      "cell_type": "code",
      "execution_count": null,
      "metadata": {
        "id": "EWdGY-5K6feq"
      },
      "outputs": [],
      "source": [
        "brazil_5641.boundary.to_frame().info()"
      ]
    },
    {
      "cell_type": "markdown",
      "metadata": {
        "id": "ee31770d"
      },
      "source": [
        "Notice you get a very simple GDF, and you may want to add some information:"
      ]
    },
    {
      "cell_type": "code",
      "execution_count": null,
      "metadata": {
        "id": "1aa88edb"
      },
      "outputs": [],
      "source": [
        "# conversion\n",
        "brazil_border=brazil_5641.boundary.to_frame()\n",
        "\n",
        "# new column (optional)\n",
        "brazil_border['name']='Brazil'\n",
        "\n",
        "# renaming the geometry column\n",
        "brazil_border.rename(columns={0:'geometry'},inplace=True)\n",
        "\n",
        "#setting the geometry (the name is not enough)\n",
        "brazil_border = brazil_border.set_geometry(\"geometry\")\n",
        "\n",
        "# verifying:\n",
        "brazil_border.crs"
      ]
    },
    {
      "cell_type": "code",
      "execution_count": null,
      "metadata": {
        "id": "m4ce9tnN64x2"
      },
      "outputs": [],
      "source": [
        "brazil_border"
      ]
    },
    {
      "cell_type": "markdown",
      "metadata": {
        "id": "56253f89"
      },
      "source": [
        "You can add this GDF as a layer."
      ]
    },
    {
      "cell_type": "markdown",
      "metadata": {
        "id": "a1a60dee"
      },
      "source": [
        "### Exercise 3\n",
        "\n",
        "<div class=\"alert-success\">\n",
        "    \n",
        "1. Check if your country is a polygon or multipolygon.\n",
        "    \n",
        "2. Recover just the boundaries of that country.\n",
        "    \n",
        "3. Turn the boundary into a GDF.\n",
        "</div>"
      ]
    },
    {
      "cell_type": "markdown",
      "metadata": {
        "id": "2c049934"
      },
      "source": [
        "<a class=\"anchor\" id=\"12\"></a>\n",
        "\n",
        "## Maps Lacking CRS information"
      ]
    },
    {
      "cell_type": "markdown",
      "metadata": {
        "id": "ae03899d"
      },
      "source": [
        "Reprojecting seems a simple process, but you might find some interesting cases.\n",
        "\n",
        "Download the compressed file \"Brazil_subnational\". Unzip or decompress that files. Move the decompressed folder into your current _maps_ folder.\n",
        "\n",
        "Let's read the maps on _states_(adm1) and _municipalities_ (adm2):"
      ]
    },
    {
      "cell_type": "code",
      "execution_count": null,
      "metadata": {
        "id": "8f1ffae0"
      },
      "outputs": [],
      "source": [
        "brazil_states=gpd.read_file(os.path.join(\"maps\",\"bra_adm_ibge_2020_shp\",\"bra_admbnda_adm1_ibge_2020.shp\"))\n",
        "brazil_municipalities=gpd.read_file(os.path.join(\"maps\",\"bra_adm_ibge_2020_shp\",\"bra_admbnda_adm2_ibge_2020.shp\"))"
      ]
    },
    {
      "cell_type": "markdown",
      "metadata": {
        "id": "04c40df3-a43f-4252-a589-ab8449fcd9dd"
      },
      "source": [
        "They are maps, for sure:"
      ]
    },
    {
      "cell_type": "code",
      "execution_count": null,
      "metadata": {
        "id": "c94b207d-0723-4b51-82ff-0ff999a844ac"
      },
      "outputs": [],
      "source": [
        "type(brazil_states), type(brazil_municipalities)"
      ]
    },
    {
      "cell_type": "code",
      "execution_count": null,
      "metadata": {
        "id": "b8871df8-0f49-4ef7-9c0f-c6eb7aa3205d"
      },
      "outputs": [],
      "source": [
        "brazil_states.geometry.head()"
      ]
    },
    {
      "cell_type": "code",
      "execution_count": null,
      "metadata": {
        "id": "ca1bb428-8608-44b0-ad0a-fa5a6a1f5a61"
      },
      "outputs": [],
      "source": [
        "brazil_municipalities.geometry.head()"
      ]
    },
    {
      "cell_type": "markdown",
      "metadata": {
        "id": "1fc50b42"
      },
      "source": [
        "But, notice this:"
      ]
    },
    {
      "cell_type": "code",
      "execution_count": null,
      "metadata": {
        "id": "fcf97ff7"
      },
      "outputs": [],
      "source": [
        "brazil_states.crs, brazil_municipalities.crs"
      ]
    },
    {
      "cell_type": "markdown",
      "metadata": {
        "id": "d5d3fb9f"
      },
      "source": [
        "They do not have crs information, however they can be plotted:"
      ]
    },
    {
      "cell_type": "code",
      "execution_count": null,
      "metadata": {
        "id": "55f99615"
      },
      "outputs": [],
      "source": [
        "import matplotlib.pyplot as plt\n",
        "\n",
        "fig, (ax1, ax2) = plt.subplots(ncols=2, sharex=False, sharey=False, figsize=(12,12))\n",
        "\n",
        "brazil_states.plot(ax=ax1, facecolor='lightgrey', edgecolor='black')\n",
        "brazil_municipalities.plot(ax=ax2, facecolor='lightgrey', edgecolor='black',linewidth=0.2)\n"
      ]
    },
    {
      "cell_type": "markdown",
      "metadata": {
        "id": "1b744542"
      },
      "source": [
        "Since we are using the crs 5641 for Brazil, the initial strategy could be to set the CRS with the right projection :"
      ]
    },
    {
      "cell_type": "code",
      "execution_count": null,
      "metadata": {
        "id": "931bfad1"
      },
      "outputs": [],
      "source": [
        "## uncomment this to see the error message\n",
        "# brazil_states.to_crs(5641)"
      ]
    },
    {
      "cell_type": "markdown",
      "metadata": {
        "id": "4c6125eb"
      },
      "source": [
        "Python says _\"Please set a crs on the object first\"_. This would mean to know the actual projection, of the geometry:"
      ]
    },
    {
      "cell_type": "markdown",
      "metadata": {
        "id": "947b1955"
      },
      "source": [
        "From the plots above and the rows seen, we conclude the maps are unprojected; then:"
      ]
    },
    {
      "cell_type": "code",
      "execution_count": null,
      "metadata": {
        "id": "b0cea549"
      },
      "outputs": [],
      "source": [
        "# set as unprojected\n",
        "brazil_states.crs = \"EPSG:4326\"\n",
        "brazil_municipalities.crs = \"EPSG:4326\""
      ]
    },
    {
      "cell_type": "markdown",
      "metadata": {
        "id": "370b9b22"
      },
      "source": [
        "Now, we can reproject:"
      ]
    },
    {
      "cell_type": "code",
      "execution_count": null,
      "metadata": {
        "id": "b5931b04"
      },
      "outputs": [],
      "source": [
        "brazil_states=brazil_states.to_crs(5641)\n",
        "brazil_municipalities=brazil_municipalities.to_crs(5641)"
      ]
    },
    {
      "cell_type": "code",
      "execution_count": null,
      "metadata": {
        "id": "4yqKbDXtwfEi"
      },
      "outputs": [],
      "source": [
        "brazil_states.to_file(os.path.join(\"maps\",\"brazilMaps_5641.gpkg\"), layer='states', driver=\"GPKG\")\n",
        "brazil_municipalities.to_file(os.path.join(\"maps\",\"brazilMaps_5641.gpkg\"), layer='municipalities', driver=\"GPKG\")"
      ]
    },
    {
      "cell_type": "markdown",
      "metadata": {
        "id": "4bd63172"
      },
      "source": [
        "### Exercise 4\n",
        "\n",
        "<div class=\"alert-success\">\n",
        "\n",
        "1. Look for sub administrative divisions of your country\n",
        "2. Check all the CRSs of those divisions\n",
        "3. If you find one CRS is missing, fill the CRS with the right projection. If not, just state nothing is to be done.\n",
        "</div>"
      ]
    },
    {
      "cell_type": "markdown",
      "metadata": {
        "id": "cQgamTbX911A"
      },
      "source": [
        "## Geo Merging\n",
        "\n",
        "The countries map has no interesting information beyond the geometry."
      ]
    },
    {
      "cell_type": "code",
      "execution_count": null,
      "metadata": {
        "id": "QkRTmDTZ911A"
      },
      "outputs": [],
      "source": [
        "countries.head()"
      ]
    },
    {
      "cell_type": "markdown",
      "metadata": {
        "id": "mL6Pw18r911A"
      },
      "source": [
        "Let add some information to each country:"
      ]
    },
    {
      "cell_type": "code",
      "execution_count": null,
      "metadata": {
        "id": "97btXyge911A"
      },
      "outputs": [],
      "source": [
        "import pandas as pd\n",
        "\n",
        "fragilityCiaLink=\"https://github.com/CienciaDeDatosEspacial/merging/raw/main/FragilityCia_isos.csv\"\n",
        "\n",
        "fragilityCia=pd.read_csv(fragilityCiaLink)\n",
        "\n",
        "fragilityCia.head()"
      ]
    },
    {
      "cell_type": "markdown",
      "metadata": {
        "id": "ucMytkM9911A"
      },
      "source": [
        "We want to add the _fragilityCia_ data into the map. That is the merging process.\n",
        "For that, we need a common column. The _Country_ column is the option."
      ]
    },
    {
      "cell_type": "code",
      "execution_count": null,
      "metadata": {
        "id": "_vJq-o89911B"
      },
      "outputs": [],
      "source": [
        "# to upper case.\n",
        "countries['COUNTRY']=countries.COUNTRY.str.upper()"
      ]
    },
    {
      "cell_type": "markdown",
      "metadata": {
        "id": "qQjjpN3J911B"
      },
      "source": [
        "It is very unlikely the names are written the same. Verify:"
      ]
    },
    {
      "cell_type": "code",
      "execution_count": null,
      "metadata": {
        "id": "XQSKl9Nz911B"
      },
      "outputs": [],
      "source": [
        "onlyFragilCia=set(fragilityCia.Country)- set(countries.COUNTRY)\n",
        "onlyMap=set(countries.COUNTRY)- set(fragilityCia.Country)"
      ]
    },
    {
      "cell_type": "markdown",
      "metadata": {
        "id": "6HxnDC7W911B"
      },
      "source": [
        "Check here:"
      ]
    },
    {
      "cell_type": "code",
      "execution_count": null,
      "metadata": {
        "id": "hE_aSvmQ911B"
      },
      "outputs": [],
      "source": [
        "onlyFragilCia"
      ]
    },
    {
      "cell_type": "code",
      "execution_count": null,
      "metadata": {
        "id": "zbTizb6b911B"
      },
      "outputs": [],
      "source": [
        "# and here\n",
        "onlyMap"
      ]
    },
    {
      "cell_type": "markdown",
      "metadata": {
        "id": "6_UJQaV3911B"
      },
      "source": [
        "## Fuzzy merging"
      ]
    },
    {
      "cell_type": "markdown",
      "metadata": {
        "id": "1Ru8Wp9f911C"
      },
      "source": [
        "Let's find similar names:"
      ]
    },
    {
      "cell_type": "code",
      "execution_count": null,
      "metadata": {
        "id": "5kOc6YjOBuwj"
      },
      "outputs": [],
      "source": [
        "# !pip install thefuzz"
      ]
    },
    {
      "cell_type": "code",
      "execution_count": null,
      "metadata": {
        "id": "OGiG_W77911G"
      },
      "outputs": [],
      "source": [
        "from thefuzz import process\n",
        "\n",
        "[(country, process.extractOne(country,onlyMap)) for country in sorted(onlyFragilCia)]"
      ]
    },
    {
      "cell_type": "code",
      "execution_count": null,
      "metadata": {
        "id": "X_BTyMJ6911G"
      },
      "outputs": [],
      "source": [
        "# keeping high scores\n",
        "\n",
        "[(country, process.extractOne(country,onlyMap)) for country in sorted(onlyFragilCia)\n",
        " if process.extractOne(country,onlyMap)[1]>=90]"
      ]
    },
    {
      "cell_type": "markdown",
      "metadata": {
        "id": "f4HfKg5a911G"
      },
      "source": [
        "Preparing a _dict_ of changes:"
      ]
    },
    {
      "cell_type": "code",
      "execution_count": null,
      "metadata": {
        "id": "HaGAV_eE911G"
      },
      "outputs": [],
      "source": [
        "# then:\n",
        "try1={country: process.extractOne(country,onlyMap)[0] for country in sorted(onlyFragilCia)\n",
        " if process.extractOne(country,onlyMap)[1]>=90}\n",
        "try1"
      ]
    },
    {
      "cell_type": "markdown",
      "metadata": {
        "id": "SZBdNu65911G"
      },
      "source": [
        "Making changes and updating:"
      ]
    },
    {
      "cell_type": "code",
      "execution_count": null,
      "metadata": {
        "id": "2uoQ0nu-911G"
      },
      "outputs": [],
      "source": [
        "fragilityCia.replace(to_replace={'Country':try1},inplace=True)\n",
        "\n",
        "# updating\n",
        "onlyFragilCia=set(fragilityCia.Country)- set(countries.COUNTRY)\n",
        "onlyMap=set(countries.COUNTRY)- set(fragilityCia.Country)\n",
        "# new matches\n",
        "[(country, process.extractOne(country,onlyMap)) for country in sorted(onlyFragilCia)]"
      ]
    },
    {
      "cell_type": "code",
      "execution_count": null,
      "metadata": {
        "id": "SKGDe5d7911G"
      },
      "outputs": [],
      "source": [
        "# some manual\n",
        "\n",
        "countries[countries.COUNTRY.str.contains('LAO|SWA|KOR')]"
      ]
    },
    {
      "cell_type": "code",
      "execution_count": null,
      "metadata": {
        "id": "2F0OGU0z911H"
      },
      "outputs": [],
      "source": [
        "manualChanges={'SWAZILAND':'ESWATINI','LAOS':\"LAO PEOPLE'S DEMOCRATIC REPUBLIC (THE)\",'SOUTH KOREA':'KOREA (THE REPUBLIC OF)'}\n",
        "\n",
        "countries.replace(to_replace={'COUNTRY':manualChanges},inplace=True)\n",
        "\n",
        "# updating\n",
        "onlyFragilCia=set(fragilityCia.Country)- set(countries.COUNTRY)\n",
        "onlyMap=set(countries.COUNTRY)- set(fragilityCia.Country)\n",
        "# new matches\n",
        "[(country, process.extractOne(country,onlyMap)) for country in sorted(onlyFragilCia)]"
      ]
    },
    {
      "cell_type": "code",
      "execution_count": null,
      "metadata": {
        "id": "teIn9O7l911H"
      },
      "outputs": [],
      "source": [
        "# then:\n",
        "try2={country: process.extractOne(country,onlyMap)[0] for country in sorted(onlyFragilCia)}\n",
        "try2"
      ]
    },
    {
      "cell_type": "code",
      "execution_count": null,
      "metadata": {
        "id": "F7DRk15v911H"
      },
      "outputs": [],
      "source": [
        "# changing\n",
        "fragilityCia.replace(to_replace={'Country':try2},inplace=True)\n",
        "\n",
        "# new update\n",
        "onlyFragilCia=set(fragilityCia.Country)- set(countries.COUNTRY)\n",
        "onlyMap=set(countries.COUNTRY)- set(fragilityCia.Country)\n",
        "\n",
        "# new matches\n",
        "[(country, process.extractOne(country,onlyMap)) for country in sorted(onlyFragilCia)]"
      ]
    },
    {
      "cell_type": "markdown",
      "metadata": {
        "id": "zDRNBfSF911H"
      },
      "source": [
        "We can not improve the situation.\n",
        "\n",
        "Now, when you merge a GDF with a DF, **the GDF has to be on the left**:"
      ]
    },
    {
      "cell_type": "code",
      "execution_count": null,
      "metadata": {
        "id": "Uh4HwdF3911H"
      },
      "outputs": [],
      "source": [
        "theMapAndData=countries.merge(fragilityCia,left_on='COUNTRY', right_on='Country')\n",
        "\n",
        "theMapAndData.drop(columns=['Country'],inplace=True) # no need for this column\n",
        "# here it is (new map):\n",
        "theMapAndData.info()"
      ]
    },
    {
      "cell_type": "markdown",
      "metadata": {
        "id": "mZicl2ut911H"
      },
      "source": [
        "# Choropleths\n",
        "\n",
        "## Transformation of data values\n",
        "\n",
        "### Re Scaling\n",
        "\n",
        "We should plan how to color the polygons based on some variable, let me check our variables of interest:"
      ]
    },
    {
      "cell_type": "code",
      "execution_count": null,
      "metadata": {
        "id": "4KpqfrRB911H"
      },
      "outputs": [],
      "source": [
        "DataNames=['fragility', 'co2', 'ForestRev_gdp']"
      ]
    },
    {
      "cell_type": "code",
      "execution_count": null,
      "metadata": {
        "id": "owx8zLXQ911I"
      },
      "outputs": [],
      "source": [
        "\n",
        "pd.melt(theMapAndData[DataNames])"
      ]
    },
    {
      "cell_type": "code",
      "execution_count": null,
      "metadata": {
        "id": "hCvWgr63911I"
      },
      "outputs": [],
      "source": [
        "import seaborn as sns\n",
        "import matplotlib.pyplot as plt\n",
        "\n",
        "sns.displot(pd.melt(theMapAndData[DataNames]),\n",
        "            x=\"value\", hue=\"variable\",kind=\"kde\",\n",
        "            log_scale=(False,False))"
      ]
    },
    {
      "cell_type": "markdown",
      "metadata": {
        "id": "P3hCupcF911I"
      },
      "source": [
        "The variables are in different units, we should try a data rescaling strategy:"
      ]
    },
    {
      "cell_type": "code",
      "execution_count": null,
      "metadata": {
        "id": "_Vo-RpYT911I"
      },
      "outputs": [],
      "source": [
        "# !pip install -U scikit-learn"
      ]
    },
    {
      "cell_type": "markdown",
      "metadata": {
        "id": "tftzIdbg911I"
      },
      "source": [
        "* **StandardScaler**:"
      ]
    },
    {
      "cell_type": "code",
      "execution_count": null,
      "metadata": {
        "id": "IAf2hGcY911I"
      },
      "outputs": [],
      "source": [
        "from sklearn.preprocessing import StandardScaler\n",
        "\n",
        "scaler = StandardScaler()\n",
        "normalized_data = scaler.fit_transform(theMapAndData[DataNames])\n",
        "sns.displot(pd.melt(pd.DataFrame(normalized_data,columns=DataNames)),\n",
        "            x=\"value\", hue=\"variable\",kind=\"kde\",\n",
        "            log_scale=(False,False))"
      ]
    },
    {
      "cell_type": "markdown",
      "metadata": {
        "id": "ixk2GsQ8911I"
      },
      "source": [
        "* **MinMaxScaler**:"
      ]
    },
    {
      "cell_type": "code",
      "execution_count": null,
      "metadata": {
        "id": "EycFhq7i911J"
      },
      "outputs": [],
      "source": [
        "from sklearn.preprocessing import MinMaxScaler\n",
        "\n",
        "scaler = MinMaxScaler(feature_range=(0, 1))\n",
        "scaled_data=scaler.fit_transform(theMapAndData[DataNames])\n",
        "\n",
        "sns.displot(pd.melt(pd.DataFrame(scaled_data,columns=DataNames)),\n",
        "            x=\"value\", hue=\"variable\",kind=\"kde\",\n",
        "            log_scale=(False,False))"
      ]
    },
    {
      "cell_type": "markdown",
      "metadata": {
        "id": "hdV_cuuY911J"
      },
      "source": [
        "* **RobustScaler**:"
      ]
    },
    {
      "cell_type": "code",
      "execution_count": null,
      "metadata": {
        "id": "eyVByKu4911J"
      },
      "outputs": [],
      "source": [
        "from sklearn.preprocessing import RobustScaler\n",
        "scaler = RobustScaler()\n",
        "robScaled_data = scaler.fit_transform(theMapAndData[DataNames])\n",
        "\n",
        "sns.displot(pd.melt(pd.DataFrame(robScaled_data,columns=DataNames)),\n",
        "            x=\"value\", hue=\"variable\",kind=\"kde\",\n",
        "            log_scale=(False,False))"
      ]
    },
    {
      "cell_type": "markdown",
      "metadata": {
        "id": "MlIt2ggd911J"
      },
      "source": [
        "* **QuantileTransformer**:"
      ]
    },
    {
      "cell_type": "code",
      "execution_count": null,
      "metadata": {
        "id": "0r0hi-BE911J"
      },
      "outputs": [],
      "source": [
        "from sklearn.preprocessing import QuantileTransformer\n",
        "scaler = QuantileTransformer(n_quantiles=99, random_state=0,output_distribution='normal') #or 'uniform'\n",
        "QtScaled_data = scaler.fit_transform(theMapAndData[DataNames])\n",
        "\n",
        "sns.displot(pd.melt(pd.DataFrame(QtScaled_data,columns=DataNames)),\n",
        "            x=\"value\", hue=\"variable\",kind=\"kde\",\n",
        "            log_scale=(False,False))"
      ]
    },
    {
      "cell_type": "markdown",
      "metadata": {
        "id": "la4Wko9duich"
      },
      "source": [
        "Let's keep the last one:"
      ]
    },
    {
      "cell_type": "code",
      "execution_count": null,
      "metadata": {
        "id": "bM1DZOXx911J"
      },
      "outputs": [],
      "source": [
        "theMapAndData['fragility_Qt']=QtScaled_data[:,0]"
      ]
    },
    {
      "cell_type": "markdown",
      "metadata": {
        "id": "Mvu1FQMh911J"
      },
      "source": [
        "### Discretizing"
      ]
    },
    {
      "cell_type": "markdown",
      "metadata": {
        "id": "UHh74IeT911J"
      },
      "source": [
        "I will keep the _data_Qt_ data frame. Now, I want cut the data.\n",
        "Please install [**numba**](https://numba.readthedocs.io/en/stable/user/installing.html) before runing the next code; also make sure you have **pysal**, **mapclassify** and **numpy** installed:"
      ]
    },
    {
      "cell_type": "code",
      "execution_count": null,
      "metadata": {
        "id": "pSSN_XDv911K"
      },
      "outputs": [],
      "source": [
        "! pip show numba mapclassify numpy"
      ]
    },
    {
      "cell_type": "code",
      "execution_count": null,
      "metadata": {
        "id": "nBBm8XmEuicm"
      },
      "outputs": [],
      "source": [
        "# !pip install mapclassify"
      ]
    },
    {
      "cell_type": "markdown",
      "metadata": {
        "id": "XifM5dIB911K"
      },
      "source": [
        "Let me discretize **fragility_Qt**:"
      ]
    },
    {
      "cell_type": "code",
      "execution_count": null,
      "metadata": {
        "id": "CvipvzA1911K"
      },
      "outputs": [],
      "source": [
        "import mapclassify\n",
        "import numpy as np\n",
        "\n",
        "np.random.seed(12345) # so we all get the same results!\n",
        "\n",
        "# let's try 5 intervals\n",
        "K=5\n",
        "theVar=theMapAndData.fragility_Qt\n",
        "# same interval width, easy interpretation\n",
        "ei5 = mapclassify.EqualInterval(theVar, k=K)\n",
        "# same interval width based on standard deviation, easy - but not as the previous one, poor when high skewness\n",
        "msd = mapclassify.StdMean(theVar)\n",
        "# interval width varies, counts per interval are close, not easy to grasp, repeated values complicate cuts\n",
        "q5=mapclassify.Quantiles(theVar,k=K)\n",
        "\n",
        "# based on similarity, good for multimodal data\n",
        "mb5 = mapclassify.MaximumBreaks(theVar, k=K)\n",
        "# based on similarity, good for skewed data\n",
        "ht = mapclassify.HeadTailBreaks(theVar) # no K needed\n",
        "# based on similarity, optimizer\n",
        "fj5 = mapclassify.FisherJenks(theVar, k=K)\n",
        "# based on similarity, optimizer\n",
        "jc5 = mapclassify.JenksCaspall(theVar, k=K)\n",
        "# based on similarity, optimizer\n",
        "mp5 = mapclassify.MaxP(theVar, k=K)"
      ]
    },
    {
      "cell_type": "markdown",
      "metadata": {
        "id": "jMjS1bE0911K"
      },
      "source": [
        "How can we select the right classification?\n",
        "Let me use the the Absolute deviation around class median (ADCM) to make the comparisson:"
      ]
    },
    {
      "cell_type": "code",
      "execution_count": null,
      "metadata": {
        "id": "bKvo0_cQ911K"
      },
      "outputs": [],
      "source": [
        "class5 = ei5,msd, q5,mb5,  ht, fj5, jc5, mp5\n",
        "# Collect ADCM for each classifier\n",
        "fits = np.array([ c.adcm for c in class5])\n",
        "# Convert ADCM scores to a DataFrame\n",
        "adcms = pd.DataFrame(fits)\n",
        "# Add classifier names\n",
        "adcms['classifier'] = [c.name for c in class5]\n",
        "# Add column names to the ADCM\n",
        "adcms.columns = ['ADCM', 'Classifier']"
      ]
    },
    {
      "cell_type": "markdown",
      "metadata": {
        "id": "anEyZGV6911L"
      },
      "source": [
        "Now, plot the **adcms**:"
      ]
    },
    {
      "cell_type": "code",
      "execution_count": null,
      "metadata": {
        "id": "TnYEkaJf911L"
      },
      "outputs": [],
      "source": [
        "adcms.sort_values('ADCM').plot.barh(x='Classifier')"
      ]
    },
    {
      "cell_type": "markdown",
      "metadata": {
        "id": "v22izWrv911L"
      },
      "source": [
        "Let's save the best strategy:"
      ]
    },
    {
      "cell_type": "code",
      "execution_count": null,
      "metadata": {
        "id": "QVab2hAl911L"
      },
      "outputs": [],
      "source": [
        "theMapAndData['fragility_Qt_jc5'] = jc5.yb"
      ]
    },
    {
      "cell_type": "code",
      "execution_count": null,
      "metadata": {
        "id": "NlOeXrph911L"
      },
      "outputs": [],
      "source": [
        "# there you are\n",
        "theMapAndData[['fragility_Qt','fragility_Qt_jc5']].head()"
      ]
    },
    {
      "cell_type": "markdown",
      "metadata": {
        "id": "6tBZSYFY911L"
      },
      "source": [
        "Let's check the mean of 'fragility_Qt' by the labels of the columns created (from '0' to '4')"
      ]
    },
    {
      "cell_type": "code",
      "execution_count": null,
      "metadata": {
        "id": "z0hBWL1d911L"
      },
      "outputs": [],
      "source": [
        "indexList=['fragility_Qt_jc5'] # add more?\n",
        "aggregator={'fragility_Qt': ['mean']}\n",
        "\n",
        "pd.concat([theMapAndData[['fragility_Qt',col]].groupby(col,as_index=False).agg(aggregator) for col in indexList],axis=1)"
      ]
    },
    {
      "cell_type": "markdown",
      "metadata": {
        "id": "eZdX-5M4911L"
      },
      "source": [
        "We could create a new column:"
      ]
    },
    {
      "cell_type": "code",
      "execution_count": null,
      "metadata": {
        "id": "5GT4XA4C911P"
      },
      "outputs": [],
      "source": [
        "# renaming\n",
        "newLabelsForLevels={0:\"0_Great\", 1:\"1_Good\", 2:\"2_Middle\", 3:\"3_Bad\", 4:\"4_Poor\"}\n",
        "\n",
        "theMapAndData['fragility_Qt_jc5_cat']=theMapAndData.loc[:,'fragility_Qt_jc5'].replace(newLabelsForLevels)\n",
        "\n",
        "# we have\n",
        "theMapAndData[['fragility_Qt','fragility_Qt_jc5','fragility_Qt_jc5_cat']].head(20)"
      ]
    },
    {
      "cell_type": "markdown",
      "metadata": {
        "id": "WMBgSJUw911P"
      },
      "source": [
        "We are ready for a choropleth:"
      ]
    },
    {
      "cell_type": "code",
      "execution_count": null,
      "metadata": {
        "id": "0BIR7WUe911P"
      },
      "outputs": [],
      "source": [
        "import matplotlib.pyplot as plt\n",
        "\n",
        "f, ax = plt.subplots(1, figsize=(10, 10))\n",
        "theMapAndData.plot(column='fragility_Qt_jc5_cat', # variable to plot\n",
        "                   cmap='viridis', # set of colors\n",
        "                   categorical=True, # can be interpreted as category\n",
        "                   edgecolor='white', # border color\n",
        "                   linewidth=0., # width of border\n",
        "                   alpha=1, # level of transparency (0 is invisible)\n",
        "                   legend=True, # need a legend?\n",
        "                   # location of legend: 'best', 'upper right', 'upper left', 'lower left',\n",
        "                   # 'lower right', 'right', 'center left', 'center right',\n",
        "                   # 'lower center', 'upper center', 'center'\n",
        "                   legend_kwds={'loc':\"lower left\"},\n",
        "        ax=ax\n",
        "       )\n",
        "\n",
        "ax.set_axis_off()"
      ]
    },
    {
      "cell_type": "markdown",
      "metadata": {
        "id": "x-qr4wOk911P"
      },
      "source": [
        "However, once you know the ADCM, you can request the choropleth without creating a variable:"
      ]
    },
    {
      "cell_type": "code",
      "execution_count": null,
      "metadata": {
        "id": "F_IIJHYb911Q"
      },
      "outputs": [],
      "source": [
        "import matplotlib.pyplot as plt\n",
        "\n",
        "f, ax = plt.subplots(1, figsize=(10, 10))\n",
        "theMapAndData.plot(column='fragility_Qt',\n",
        "                   cmap='OrRd',\n",
        "                   scheme=\"jenkscaspall\",k=5,\n",
        "        edgecolor='grey',\n",
        "        linewidth=0.5,\n",
        "        alpha=1,\n",
        "        legend=True,\n",
        "        legend_kwds={'loc':3},\n",
        "        ax=ax\n",
        "       )\n",
        "\n",
        "ax.set_axis_off()"
      ]
    },
    {
      "cell_type": "code",
      "execution_count": null,
      "metadata": {
        "id": "w-7bSegs911Q"
      },
      "outputs": [],
      "source": [
        "# finally\n",
        "\n",
        "theMapAndData.to_file(os.path.join(\"maps\",\"worldMaps.gpkg\"), layer='indicators', driver=\"GPKG\")"
      ]
    },
    {
      "cell_type": "markdown",
      "metadata": {
        "id": "eK_uY-Ge911Q"
      },
      "source": [
        "### Exercise 5\n",
        "\n",
        "<div class=\"alert-success\">\n",
        "\n",
        "1. Transform the co2 and forest variables.\n",
        "2. Discretize the result chosen.\n",
        "3. Make the maps for the co2 and forest variables.\n",
        "4. Add another variable (merge) from the web (or any other source). Transform it , discretize it, and map it.\n",
        "   \n",
        "    \n",
        "</div>"
      ]
    }
  ],
  "metadata": {
    "anaconda-cloud": {
      "attach-environment": true,
      "summary": "test"
    },
    "colab": {
      "provenance": []
    },
    "hide_input": false,
    "kernelspec": {
      "display_name": "Python 3 (ipykernel)",
      "language": "python",
      "name": "python3"
    },
    "language_info": {
      "codemirror_mode": {
        "name": "ipython",
        "version": 3
      },
      "file_extension": ".py",
      "mimetype": "text/x-python",
      "name": "python",
      "nbconvert_exporter": "python",
      "pygments_lexer": "ipython3",
      "version": "3.11.9"
    },
    "toc-autonumbering": false
  },
  "nbformat": 4,
  "nbformat_minor": 0
}